{
 "cells": [
  {
   "cell_type": "markdown",
   "id": "236b0e76-786d-491b-bf23-53c7d3712f69",
   "metadata": {},
   "source": [
    "# Exploratory Data Analysis (Global Traffic Accidents Dataset)"
   ]
  },
  {
   "cell_type": "markdown",
   "id": "96574de2-d776-45d7-979e-7f33228bb907",
   "metadata": {},
   "source": [
    "## Loading the Data"
   ]
  },
  {
   "cell_type": "code",
   "execution_count": 102,
   "id": "44c642b0-5943-4eca-b697-275c292cdc4a",
   "metadata": {},
   "outputs": [],
   "source": [
    "import pandas as pd\n",
    "import numpy as np\n",
    "import matplotlib.pyplot as plt\n",
    "import seaborn as sns"
   ]
  },
  {
   "cell_type": "code",
   "execution_count": 103,
   "id": "62415932-ca52-4191-83da-b50b8b862459",
   "metadata": {},
   "outputs": [
    {
     "data": {
      "text/html": [
       "<div>\n",
       "<style scoped>\n",
       "    .dataframe tbody tr th:only-of-type {\n",
       "        vertical-align: middle;\n",
       "    }\n",
       "\n",
       "    .dataframe tbody tr th {\n",
       "        vertical-align: top;\n",
       "    }\n",
       "\n",
       "    .dataframe thead th {\n",
       "        text-align: right;\n",
       "    }\n",
       "</style>\n",
       "<table border=\"1\" class=\"dataframe\">\n",
       "  <thead>\n",
       "    <tr style=\"text-align: right;\">\n",
       "      <th></th>\n",
       "      <th>Accident ID</th>\n",
       "      <th>Date</th>\n",
       "      <th>Time</th>\n",
       "      <th>Location</th>\n",
       "      <th>Latitude</th>\n",
       "      <th>Longitude</th>\n",
       "      <th>Weather Condition</th>\n",
       "      <th>Road Condition</th>\n",
       "      <th>Vehicles Involved</th>\n",
       "      <th>Casualties</th>\n",
       "      <th>Cause</th>\n",
       "    </tr>\n",
       "  </thead>\n",
       "  <tbody>\n",
       "    <tr>\n",
       "      <th>0</th>\n",
       "      <td>b0dd6f57</td>\n",
       "      <td>4/19/2023</td>\n",
       "      <td>6:39</td>\n",
       "      <td>Mumbai, India</td>\n",
       "      <td>13.488432</td>\n",
       "      <td>-73.290682</td>\n",
       "      <td>Snow</td>\n",
       "      <td>Snowy</td>\n",
       "      <td>5.0</td>\n",
       "      <td>7.0</td>\n",
       "      <td>Reckless Driving</td>\n",
       "    </tr>\n",
       "    <tr>\n",
       "      <th>1</th>\n",
       "      <td>debfad09</td>\n",
       "      <td>1/17/2023</td>\n",
       "      <td>2:47</td>\n",
       "      <td>São Paulo, Brazil</td>\n",
       "      <td>-37.798317</td>\n",
       "      <td>-32.244242</td>\n",
       "      <td>Clear</td>\n",
       "      <td>Icy</td>\n",
       "      <td>4.0</td>\n",
       "      <td>1.0</td>\n",
       "      <td>Drunk Driving</td>\n",
       "    </tr>\n",
       "    <tr>\n",
       "      <th>2</th>\n",
       "      <td>6d69aa36</td>\n",
       "      <td>4/9/2024</td>\n",
       "      <td>2:55</td>\n",
       "      <td>Sydney, Australia</td>\n",
       "      <td>33.767869</td>\n",
       "      <td>104.869018</td>\n",
       "      <td>Rain</td>\n",
       "      <td>Snowy</td>\n",
       "      <td>1.0</td>\n",
       "      <td>7.0</td>\n",
       "      <td>Reckless Driving</td>\n",
       "    </tr>\n",
       "    <tr>\n",
       "      <th>3</th>\n",
       "      <td>425bb1f0</td>\n",
       "      <td>10/10/2023</td>\n",
       "      <td>11:23</td>\n",
       "      <td>Tokyo, Japan</td>\n",
       "      <td>-0.378031</td>\n",
       "      <td>-165.825855</td>\n",
       "      <td>Storm</td>\n",
       "      <td>Wet</td>\n",
       "      <td>4.0</td>\n",
       "      <td>0.0</td>\n",
       "      <td>Drunk Driving</td>\n",
       "    </tr>\n",
       "    <tr>\n",
       "      <th>4</th>\n",
       "      <td>90d5cf62</td>\n",
       "      <td>1/2/2023</td>\n",
       "      <td>12:07</td>\n",
       "      <td>Beijing, China</td>\n",
       "      <td>41.254879</td>\n",
       "      <td>-30.776959</td>\n",
       "      <td>Storm</td>\n",
       "      <td>Snowy</td>\n",
       "      <td>3.0</td>\n",
       "      <td>9.0</td>\n",
       "      <td>Reckless Driving</td>\n",
       "    </tr>\n",
       "  </tbody>\n",
       "</table>\n",
       "</div>"
      ],
      "text/plain": [
       "  Accident ID        Date   Time           Location   Latitude   Longitude  \\\n",
       "0    b0dd6f57   4/19/2023   6:39      Mumbai, India  13.488432  -73.290682   \n",
       "1    debfad09   1/17/2023   2:47  São Paulo, Brazil -37.798317  -32.244242   \n",
       "2    6d69aa36    4/9/2024   2:55  Sydney, Australia  33.767869  104.869018   \n",
       "3    425bb1f0  10/10/2023  11:23       Tokyo, Japan  -0.378031 -165.825855   \n",
       "4    90d5cf62    1/2/2023  12:07     Beijing, China  41.254879  -30.776959   \n",
       "\n",
       "  Weather Condition Road Condition  Vehicles Involved  Casualties  \\\n",
       "0              Snow          Snowy                5.0         7.0   \n",
       "1             Clear            Icy                4.0         1.0   \n",
       "2              Rain          Snowy                1.0         7.0   \n",
       "3             Storm            Wet                4.0         0.0   \n",
       "4             Storm          Snowy                3.0         9.0   \n",
       "\n",
       "              Cause  \n",
       "0  Reckless Driving  \n",
       "1     Drunk Driving  \n",
       "2  Reckless Driving  \n",
       "3     Drunk Driving  \n",
       "4  Reckless Driving  "
      ]
     },
     "execution_count": 103,
     "metadata": {},
     "output_type": "execute_result"
    }
   ],
   "source": [
    "df = pd.read_csv(r'E:\\Projects\\EDA Projects\\01\\global_traffic_accidents.csv')\n",
    "df.head()"
   ]
  },
  {
   "cell_type": "code",
   "execution_count": 104,
   "id": "32507b5b-3e8d-49af-93fa-d37775eecc21",
   "metadata": {},
   "outputs": [
    {
     "name": "stdout",
     "output_type": "stream",
     "text": [
      "<class 'pandas.core.frame.DataFrame'>\n",
      "RangeIndex: 10013 entries, 0 to 10012\n",
      "Data columns (total 11 columns):\n",
      " #   Column             Non-Null Count  Dtype  \n",
      "---  ------             --------------  -----  \n",
      " 0   Accident ID        10013 non-null  object \n",
      " 1   Date               10000 non-null  object \n",
      " 2   Time               10006 non-null  object \n",
      " 3   Location           10008 non-null  object \n",
      " 4   Latitude           10013 non-null  float64\n",
      " 5   Longitude          10013 non-null  float64\n",
      " 6   Weather Condition  10013 non-null  object \n",
      " 7   Road Condition     10013 non-null  object \n",
      " 8   Vehicles Involved  9990 non-null   float64\n",
      " 9   Casualties         10001 non-null  float64\n",
      " 10  Cause              10013 non-null  object \n",
      "dtypes: float64(4), object(7)\n",
      "memory usage: 860.6+ KB\n"
     ]
    }
   ],
   "source": [
    "df.info()"
   ]
  },
  {
   "cell_type": "code",
   "execution_count": 105,
   "id": "20a9d526-da55-4880-9437-7a83e0fab5b8",
   "metadata": {},
   "outputs": [
    {
     "data": {
      "text/plain": [
       "np.int64(13)"
      ]
     },
     "execution_count": 105,
     "metadata": {},
     "output_type": "execute_result"
    }
   ],
   "source": [
    "df.duplicated().sum()"
   ]
  },
  {
   "cell_type": "code",
   "execution_count": 106,
   "id": "7beb0946-ac88-42c5-89f9-c8dff9b18616",
   "metadata": {},
   "outputs": [
    {
     "data": {
      "text/plain": [
       "np.int64(0)"
      ]
     },
     "execution_count": 106,
     "metadata": {},
     "output_type": "execute_result"
    }
   ],
   "source": [
    "df.drop_duplicates(inplace=True)\n",
    "df.duplicated().sum()"
   ]
  },
  {
   "cell_type": "markdown",
   "id": "4570faa8-a0a0-445a-8d4f-272d62b8ea31",
   "metadata": {},
   "source": [
    "## Data Cleaning"
   ]
  },
  {
   "cell_type": "code",
   "execution_count": 107,
   "id": "263c1537-9fc7-4bac-bbcb-8dacf966560a",
   "metadata": {},
   "outputs": [
    {
     "name": "stdout",
     "output_type": "stream",
     "text": [
      "Missing Values:\n",
      "Accident ID           0\n",
      "Date                 13\n",
      "Time                  7\n",
      "Location              5\n",
      "Latitude              0\n",
      "Longitude             0\n",
      "Weather Condition     0\n",
      "Road Condition        0\n",
      "Vehicles Involved    22\n",
      "Casualties           11\n",
      "Cause                 0\n",
      "dtype: int64\n"
     ]
    }
   ],
   "source": [
    "print(f\"Missing Values:\\n{df.isnull().sum()}\")"
   ]
  },
  {
   "cell_type": "code",
   "execution_count": 108,
   "id": "06c5ad88-727b-49ba-8651-a06c89622418",
   "metadata": {},
   "outputs": [],
   "source": [
    "df['Casualties'] = df['Casualties'].fillna(df['Casualties'].median())\n",
    "df['Vehicles Involved'] = df['Vehicles Involved'].fillna(df['Vehicles Involved'].median())\n",
    "df.dropna(subset=['Date', 'Time', 'Location'], inplace=True)"
   ]
  },
  {
   "cell_type": "code",
   "execution_count": 109,
   "id": "90c1dd60-402a-485f-a67b-103089b38a77",
   "metadata": {},
   "outputs": [
    {
     "name": "stdout",
     "output_type": "stream",
     "text": [
      "Missing Values:\n",
      "Accident ID          0\n",
      "Date                 0\n",
      "Time                 0\n",
      "Location             0\n",
      "Latitude             0\n",
      "Longitude            0\n",
      "Weather Condition    0\n",
      "Road Condition       0\n",
      "Vehicles Involved    0\n",
      "Casualties           0\n",
      "Cause                0\n",
      "dtype: int64\n"
     ]
    }
   ],
   "source": [
    "print(f\"Missing Values:\\n{df.isnull().sum()}\")"
   ]
  },
  {
   "cell_type": "code",
   "execution_count": 110,
   "id": "8227ae8f-b9b0-48f1-8437-89354671021b",
   "metadata": {},
   "outputs": [],
   "source": [
    "df['Date'] = pd.to_datetime(df['Date'], errors='coerce')"
   ]
  },
  {
   "cell_type": "code",
   "execution_count": 142,
   "id": "0d33844a-80a6-4b1f-9113-57a67e6af7d0",
   "metadata": {},
   "outputs": [
    {
     "name": "stdout",
     "output_type": "stream",
     "text": [
      "Number of NaT values in 'Date' column after converting to datetime: 0\n"
     ]
    }
   ],
   "source": [
    "nat_count = df['Date'].isna().sum()\n",
    "print(f\"Number of NaT values in 'Date' column after converting to datetime: {nat_count}\")"
   ]
  },
  {
   "cell_type": "code",
   "execution_count": 111,
   "id": "9716a521-f18f-45d6-8632-38a92662baa8",
   "metadata": {},
   "outputs": [
    {
     "name": "stdout",
     "output_type": "stream",
     "text": [
      "<class 'pandas.core.frame.DataFrame'>\n",
      "Index: 9978 entries, 0 to 10012\n",
      "Data columns (total 11 columns):\n",
      " #   Column             Non-Null Count  Dtype         \n",
      "---  ------             --------------  -----         \n",
      " 0   Accident ID        9978 non-null   object        \n",
      " 1   Date               9978 non-null   datetime64[ns]\n",
      " 2   Time               9978 non-null   object        \n",
      " 3   Location           9978 non-null   object        \n",
      " 4   Latitude           9978 non-null   float64       \n",
      " 5   Longitude          9978 non-null   float64       \n",
      " 6   Weather Condition  9978 non-null   object        \n",
      " 7   Road Condition     9978 non-null   object        \n",
      " 8   Vehicles Involved  9978 non-null   float64       \n",
      " 9   Casualties         9978 non-null   float64       \n",
      " 10  Cause              9978 non-null   object        \n",
      "dtypes: datetime64[ns](1), float64(4), object(6)\n",
      "memory usage: 935.4+ KB\n"
     ]
    }
   ],
   "source": [
    "df.info()"
   ]
  },
  {
   "cell_type": "code",
   "execution_count": 112,
   "id": "2d3ba55f-838c-4210-9fa3-e85cb38330b8",
   "metadata": {},
   "outputs": [
    {
     "name": "stdout",
     "output_type": "stream",
     "text": [
      "\n",
      "Cleaned Dataset Shape: (9978, 11)\n"
     ]
    }
   ],
   "source": [
    "print(\"\\nCleaned Dataset Shape:\", df.shape)"
   ]
  },
  {
   "cell_type": "markdown",
   "id": "0b6eff7a-4b61-43d4-80a9-f527e7557c9f",
   "metadata": {},
   "source": [
    "## Summary Statistics"
   ]
  },
  {
   "cell_type": "code",
   "execution_count": 113,
   "id": "b8b916ed-cc4b-4adf-940e-a6be8fae8d06",
   "metadata": {},
   "outputs": [
    {
     "data": {
      "text/html": [
       "<div>\n",
       "<style scoped>\n",
       "    .dataframe tbody tr th:only-of-type {\n",
       "        vertical-align: middle;\n",
       "    }\n",
       "\n",
       "    .dataframe tbody tr th {\n",
       "        vertical-align: top;\n",
       "    }\n",
       "\n",
       "    .dataframe thead th {\n",
       "        text-align: right;\n",
       "    }\n",
       "</style>\n",
       "<table border=\"1\" class=\"dataframe\">\n",
       "  <thead>\n",
       "    <tr style=\"text-align: right;\">\n",
       "      <th></th>\n",
       "      <th>Date</th>\n",
       "      <th>Latitude</th>\n",
       "      <th>Longitude</th>\n",
       "      <th>Vehicles Involved</th>\n",
       "      <th>Casualties</th>\n",
       "    </tr>\n",
       "  </thead>\n",
       "  <tbody>\n",
       "    <tr>\n",
       "      <th>count</th>\n",
       "      <td>9978</td>\n",
       "      <td>9978.000000</td>\n",
       "      <td>9978.000000</td>\n",
       "      <td>9978.000000</td>\n",
       "      <td>9978.000000</td>\n",
       "    </tr>\n",
       "    <tr>\n",
       "      <th>mean</th>\n",
       "      <td>2024-01-01 13:25:17.498496768</td>\n",
       "      <td>-0.567211</td>\n",
       "      <td>0.393068</td>\n",
       "      <td>2.998597</td>\n",
       "      <td>4.988274</td>\n",
       "    </tr>\n",
       "    <tr>\n",
       "      <th>min</th>\n",
       "      <td>2023-01-01 00:00:00</td>\n",
       "      <td>-89.985688</td>\n",
       "      <td>-179.961984</td>\n",
       "      <td>1.000000</td>\n",
       "      <td>0.000000</td>\n",
       "    </tr>\n",
       "    <tr>\n",
       "      <th>25%</th>\n",
       "      <td>2023-06-30 00:00:00</td>\n",
       "      <td>-45.443242</td>\n",
       "      <td>-88.197004</td>\n",
       "      <td>2.000000</td>\n",
       "      <td>2.000000</td>\n",
       "    </tr>\n",
       "    <tr>\n",
       "      <th>50%</th>\n",
       "      <td>2024-01-01 00:00:00</td>\n",
       "      <td>-1.099855</td>\n",
       "      <td>-0.249092</td>\n",
       "      <td>3.000000</td>\n",
       "      <td>5.000000</td>\n",
       "    </tr>\n",
       "    <tr>\n",
       "      <th>75%</th>\n",
       "      <td>2024-07-03 00:00:00</td>\n",
       "      <td>44.131219</td>\n",
       "      <td>90.007728</td>\n",
       "      <td>4.000000</td>\n",
       "      <td>8.000000</td>\n",
       "    </tr>\n",
       "    <tr>\n",
       "      <th>max</th>\n",
       "      <td>2024-12-31 00:00:00</td>\n",
       "      <td>89.990081</td>\n",
       "      <td>179.981695</td>\n",
       "      <td>5.000000</td>\n",
       "      <td>10.000000</td>\n",
       "    </tr>\n",
       "    <tr>\n",
       "      <th>std</th>\n",
       "      <td>NaN</td>\n",
       "      <td>51.914733</td>\n",
       "      <td>103.377446</td>\n",
       "      <td>1.407820</td>\n",
       "      <td>3.127949</td>\n",
       "    </tr>\n",
       "  </tbody>\n",
       "</table>\n",
       "</div>"
      ],
      "text/plain": [
       "                                Date     Latitude    Longitude  \\\n",
       "count                           9978  9978.000000  9978.000000   \n",
       "mean   2024-01-01 13:25:17.498496768    -0.567211     0.393068   \n",
       "min              2023-01-01 00:00:00   -89.985688  -179.961984   \n",
       "25%              2023-06-30 00:00:00   -45.443242   -88.197004   \n",
       "50%              2024-01-01 00:00:00    -1.099855    -0.249092   \n",
       "75%              2024-07-03 00:00:00    44.131219    90.007728   \n",
       "max              2024-12-31 00:00:00    89.990081   179.981695   \n",
       "std                              NaN    51.914733   103.377446   \n",
       "\n",
       "       Vehicles Involved   Casualties  \n",
       "count        9978.000000  9978.000000  \n",
       "mean            2.998597     4.988274  \n",
       "min             1.000000     0.000000  \n",
       "25%             2.000000     2.000000  \n",
       "50%             3.000000     5.000000  \n",
       "75%             4.000000     8.000000  \n",
       "max             5.000000    10.000000  \n",
       "std             1.407820     3.127949  "
      ]
     },
     "execution_count": 113,
     "metadata": {},
     "output_type": "execute_result"
    }
   ],
   "source": [
    "df.describe()"
   ]
  },
  {
   "cell_type": "code",
   "execution_count": 114,
   "id": "d2f89e3a-e3ce-4528-9fe5-26f75ff1ff62",
   "metadata": {},
   "outputs": [
    {
     "name": "stdout",
     "output_type": "stream",
     "text": [
      "Unique Causes of Accidents: 6\n"
     ]
    }
   ],
   "source": [
    "print(f\"Unique Causes of Accidents: {df['Cause'].nunique()}\")"
   ]
  },
  {
   "cell_type": "code",
   "execution_count": 115,
   "id": "d8a3ca6b-aec5-4297-aaad-95a97dbb67ba",
   "metadata": {},
   "outputs": [
    {
     "name": "stdout",
     "output_type": "stream",
     "text": [
      "Unique Causes are as below:\n",
      "1.Reckless Driving\n",
      "2.Drunk Driving\n",
      "3.Weather Conditions\n",
      "4.Mechanical Failure\n",
      "5.Speeding\n",
      "6.Distracted Driving\n"
     ]
    }
   ],
   "source": [
    "print(\"Unique Causes are as below:\")\n",
    "for i, uc in enumerate(df['Cause'].unique(), 1):\n",
    "    print (f\"{i}.{uc}\")"
   ]
  },
  {
   "cell_type": "code",
   "execution_count": 120,
   "id": "09425d55-ea3d-46ad-8803-42cc49986d3a",
   "metadata": {},
   "outputs": [
    {
     "name": "stdout",
     "output_type": "stream",
     "text": [
      "Top 3 Causes:\n",
      "Cause\n",
      "Drunk Driving       1712\n",
      "Reckless Driving    1681\n",
      "Speeding            1653\n",
      "Name: count, dtype: int64\n"
     ]
    }
   ],
   "source": [
    "print(f\"Top 3 Causes:\\n{df['Cause'].value_counts().head(3)}\")"
   ]
  },
  {
   "cell_type": "code",
   "execution_count": 133,
   "id": "edaeb24d-4347-45d4-94b8-df663f089816",
   "metadata": {},
   "outputs": [
    {
     "name": "stdout",
     "output_type": "stream",
     "text": [
      "Unique Road Conditions in Accidents: 6\n"
     ]
    }
   ],
   "source": [
    "print(f\"Unique Road Conditions in Accidents: {df['Road Condition'].nunique()}\")"
   ]
  },
  {
   "cell_type": "code",
   "execution_count": 128,
   "id": "358adea1-6efd-4dab-b7ab-9d3e1b19c8df",
   "metadata": {},
   "outputs": [
    {
     "name": "stdout",
     "output_type": "stream",
     "text": [
      "Unique Road Conditions are as below:\n",
      "1.Snowy\n",
      "2.Icy\n",
      "3.Wet\n",
      "4.Under Construction\n",
      "5.Gravel\n",
      "6.Dry\n"
     ]
    }
   ],
   "source": [
    "print(\"Unique Road Conditions are as below:\")\n",
    "for i, rc in enumerate(df['Road Condition'].unique(), 1):\n",
    "    print (f\"{i}.{rc}\")"
   ]
  },
  {
   "cell_type": "code",
   "execution_count": 135,
   "id": "ed37a719-85d0-4467-b7cf-a3226eae25eb",
   "metadata": {},
   "outputs": [
    {
     "name": "stdout",
     "output_type": "stream",
     "text": [
      "Top 3 Road Conditions in Accidents:\n",
      "Road Condition\n",
      "Dry       1725\n",
      "Gravel    1698\n",
      "Wet       1675\n",
      "Name: count, dtype: int64\n"
     ]
    }
   ],
   "source": [
    "print(f\"Top 3 Road Conditions in Accidents:\\n{df['Road Condition'].value_counts().head(3)}\")"
   ]
  },
  {
   "cell_type": "code",
   "execution_count": 130,
   "id": "1f82dbb2-129f-4711-a3b3-23a8471b9703",
   "metadata": {},
   "outputs": [
    {
     "name": "stdout",
     "output_type": "stream",
     "text": [
      "Unique Weather Conditions: 6\n"
     ]
    }
   ],
   "source": [
    "print(f\"Unique Weather Conditions: {df['Weather Condition'].nunique()}\")"
   ]
  },
  {
   "cell_type": "code",
   "execution_count": 131,
   "id": "b4b8b11c-6c11-43c0-9ce8-440a9ab5bcbf",
   "metadata": {},
   "outputs": [
    {
     "name": "stdout",
     "output_type": "stream",
     "text": [
      "Unique Weather Conditions are as below:\n",
      "1.Snow\n",
      "2.Clear\n",
      "3.Rain\n",
      "4.Storm\n",
      "5.Fog\n",
      "6.Hail\n"
     ]
    }
   ],
   "source": [
    "print(\"Unique Weather Conditions are as below:\")\n",
    "for i, wc in enumerate(df['Weather Condition'].unique(), 1):\n",
    "    print (f\"{i}.{wc}\")"
   ]
  },
  {
   "cell_type": "code",
   "execution_count": 136,
   "id": "378ecde5-9bc2-473a-bb76-9b3206657d77",
   "metadata": {},
   "outputs": [
    {
     "name": "stdout",
     "output_type": "stream",
     "text": [
      "Top 3 Weather Conditions:\n",
      "Road Condition\n",
      "Dry       1725\n",
      "Gravel    1698\n",
      "Wet       1675\n",
      "Name: count, dtype: int64\n"
     ]
    }
   ],
   "source": [
    "print(f\"Top 3 Weather Conditions:\\n{df['Road Condition'].value_counts().head(3)}\")"
   ]
  },
  {
   "cell_type": "code",
   "execution_count": 137,
   "id": "3b10ff20-5b7e-414b-9c32-8688f4e76b2c",
   "metadata": {},
   "outputs": [
    {
     "name": "stdout",
     "output_type": "stream",
     "text": [
      "Unique Locations: 10\n"
     ]
    }
   ],
   "source": [
    "print(f\"Unique Locations: {df['Location'].nunique()}\")"
   ]
  },
  {
   "cell_type": "code",
   "execution_count": 138,
   "id": "7ce2fb5f-1da2-43f5-b6e8-7df3ee1ec8fa",
   "metadata": {},
   "outputs": [
    {
     "name": "stdout",
     "output_type": "stream",
     "text": [
      "Unique Locations are as below:\n",
      "1.Mumbai, India\n",
      "2.São Paulo, Brazil\n",
      "3.Sydney, Australia\n",
      "4.Tokyo, Japan\n",
      "5.Beijing, China\n",
      "6.Paris, France\n",
      "7.London, UK\n",
      "8.Toronto, Canada\n",
      "9.Berlin, Germany\n",
      "10.New York, USA\n"
     ]
    }
   ],
   "source": [
    "print(\"Unique Locations are as below:\")\n",
    "for i, l in enumerate(df['Location'].unique(), 1):\n",
    "    print (f\"{i}.{l}\")"
   ]
  },
  {
   "cell_type": "code",
   "execution_count": 139,
   "id": "0a3594f6-0c3e-41f0-ae68-32fff06ae2d4",
   "metadata": {},
   "outputs": [
    {
     "name": "stdout",
     "output_type": "stream",
     "text": [
      "Top 3 Locations With The Most number of Accidents:\n",
      "Location\n",
      "São Paulo, Brazil    1030\n",
      "Beijing, China       1014\n",
      "New York, USA        1013\n",
      "Name: count, dtype: int64\n"
     ]
    }
   ],
   "source": [
    "print(f\"Top 3 Locations With The Most number of Accidents:\\n{df['Location'].value_counts().head(3)}\")"
   ]
  },
  {
   "cell_type": "code",
   "execution_count": 144,
   "id": "4c62dfb3-8c54-4ce9-a29c-dd1c759d93c1",
   "metadata": {},
   "outputs": [
    {
     "name": "stdout",
     "output_type": "stream",
     "text": [
      "Top 2 Dates With The Most number of Accidents:\n",
      "Date\n",
      "2023-02-22    29\n",
      "2024-08-08    26\n",
      "Name: count, dtype: int64\n"
     ]
    }
   ],
   "source": [
    "print(f\"Top 2 Dates With The Most number of Accidents:\\n{df['Date'].value_counts().head(2)}\")"
   ]
  },
  {
   "cell_type": "code",
   "execution_count": 147,
   "id": "05688f1f-a7df-41ed-beac-f2826cfaa9f7",
   "metadata": {},
   "outputs": [
    {
     "name": "stdout",
     "output_type": "stream",
     "text": [
      "The Most Number of Casualties In An Accident: 10.0\n"
     ]
    }
   ],
   "source": [
    "print(f\"The Most Number of Casualties In An Accident: {df['Casualties'].max()}\")"
   ]
  },
  {
   "cell_type": "code",
   "execution_count": 148,
   "id": "f2046598-339c-4a09-8bdd-e4a3f4b53911",
   "metadata": {},
   "outputs": [
    {
     "name": "stdout",
     "output_type": "stream",
     "text": [
      "Total Number of Casualties In The Accidents: 49773.0\n"
     ]
    }
   ],
   "source": [
    "print(f\"Total Number of Casualties In The Accidents: {df['Casualties'].sum()}\")"
   ]
  },
  {
   "cell_type": "markdown",
   "id": "b45b601a-784a-4ba6-aa9d-3f19588e963d",
   "metadata": {},
   "source": [
    "## Data Visualization"
   ]
  },
  {
   "cell_type": "code",
   "execution_count": 177,
   "id": "d0dce319-5b24-458d-8580-35cecfe704df",
   "metadata": {},
   "outputs": [
    {
     "data": {
      "image/png": "[encoded data removed]",
      "text/plain": [
       "<Figure size 1000x500 with 1 Axes>"
      ]
     },
     "metadata": {},
     "output_type": "display_data"
    }
   ],
   "source": [
    "sns.set(style=\"whitegrid\")\n",
    "plt.figure(figsize=(10, 5))\n",
    "plt.title('Distribution of Casualties in Traffic Accidents')\n",
    "sns.histplot(df['Casualties'], bins=20, kde=True)\n",
    "plt.xlabel('Number of Casualties')\n",
    "plt.ylabel('Frequency')\n",
    "plt.savefig('casualties_hist.png')\n",
    "plt.show()"
   ]
  },
  {
   "cell_type": "code",
   "execution_count": 178,
   "id": "aa138ab1-3d61-4f5d-b396-0481d4ff5dec",
   "metadata": {},
   "outputs": [
    {
     "data": {
      "image/png": "[encoded data removed]",
      "text/plain": [
       "<Figure size 1000x300 with 1 Axes>"
      ]
     },
     "metadata": {},
     "output_type": "display_data"
    }
   ],
   "source": [
    "plt.figure(figsize=(10, 3))\n",
    "sns.countplot(y='Cause', data=df, order=df['Cause'].value_counts().index[:3])\n",
    "plt.title('Top 10 Causes of Traffic Accidents')\n",
    "plt.xlabel('Count')\n",
    "plt.ylabel('Cause')\n",
    "plt.savefig('count_hist.png')\n",
    "plt.show()"
   ]
  },
  {
   "cell_type": "code",
   "execution_count": 179,
   "id": "912146a4-5b95-41e3-8b33-70e570491855",
   "metadata": {},
   "outputs": [
    {
     "data": {
      "image/png": "[encoded data removed]",
      "text/plain": [
       "<Figure size 800x400 with 1 Axes>"
      ]
     },
     "metadata": {},
     "output_type": "display_data"
    }
   ],
   "source": [
    "df['Year'] = df['Date'].dt.year\n",
    "plt.figure(figsize=(8, 4))\n",
    "sns.countplot(x='Year', data=df)\n",
    "plt.title('Number of Accidents by Year')\n",
    "plt.xlabel('Year')\n",
    "plt.ylabel('Number of Accidents')\n",
    "plt.xticks(rotation=45)\n",
    "plt.savefig('countplot_hist.png')\n",
    "plt.show()"
   ]
  },
  {
   "cell_type": "markdown",
   "id": "5a357753-8dfe-46c2-b63e-e85b0ac27682",
   "metadata": {},
   "source": [
    "## Insights"
   ]
  },
  {
   "cell_type": "markdown",
   "id": "71eb9335-851f-4ec9-9183-f19232c986fe",
   "metadata": {},
   "source": [
    "### Most accidents have low casualties <span style='color:green'>(0-5)</span>, with a long tail of rare high-casualty events.\n",
    "### Analysis of global traffic accident data identifies <span style='color:red'>Drunk Driving</span>, <span style='color:red'>Reckless Driving</span>, and <span style='color:red'>Speeding</span> as primary contributors, underscoring the need for authorities to adopt more stringent legislation and punitive measures targeting such drivers.\n",
    "### Data indicates that road conditions as <span style='color:red'>Under Construction</span> contribute to traffic accidents, and I advise authorities to improve safety by <span style='color:green'>enhancing signage</span>, <span style='color:green'>implementing temporary speed reductions</span>, and <span style='color:green'>ensuring timely completion of construction projects</span>."
   ]
  },
  {
   "cell_type": "code",
   "execution_count": null,
   "id": "1ffb148a-1804-4b39-88d1-bfc22fbb38d8",
   "metadata": {},
   "outputs": [],
   "source": []
  },
  {
   "cell_type": "code",
   "execution_count": null,
   "id": "e8539a84-0952-439b-86a2-4adb071d2355",
   "metadata": {},
   "outputs": [],
   "source": []
  },
  {
   "cell_type": "code",
   "execution_count": null,
   "id": "9fa5c0eb-0aa5-4dec-9cac-6cd338901d3f",
   "metadata": {},
   "outputs": [],
   "source": []
  },
  {
   "cell_type": "code",
   "execution_count": null,
   "id": "e48da6f6-28bf-40b2-98a9-7082c98d646a",
   "metadata": {},
   "outputs": [],
   "source": []
  },
  {
   "cell_type": "code",
   "execution_count": null,
   "id": "0eed2f6e-caeb-4a25-bf26-1ce0f32b612b",
   "metadata": {},
   "outputs": [],
   "source": []
  },
  {
   "cell_type": "code",
   "execution_count": null,
   "id": "df1a767c-8ce4-47dd-bc63-e29625c8931a",
   "metadata": {},
   "outputs": [],
   "source": []
  },
  {
   "cell_type": "code",
   "execution_count": null,
   "id": "6aec6fc1-3a31-4303-ae78-6b0e68602004",
   "metadata": {},
   "outputs": [],
   "source": []
  },
  {
   "cell_type": "code",
   "execution_count": null,
   "id": "ef56fe56-ebd1-420a-b1c9-5ce558ddefeb",
   "metadata": {},
   "outputs": [],
   "source": []
  },
  {
   "cell_type": "code",
   "execution_count": null,
   "id": "35bb4219-dd09-4103-8a27-fcb9b7f2aa97",
   "metadata": {},
   "outputs": [],
   "source": []
  },
  {
   "cell_type": "code",
   "execution_count": null,
   "id": "bac54e11-83f9-4fc3-ad60-6b8a1c63ee20",
   "metadata": {},
   "outputs": [],
   "source": []
  },
  {
   "cell_type": "code",
   "execution_count": null,
   "id": "4021dc2f-63ba-48f7-bdb6-9745f36fe43c",
   "metadata": {},
   "outputs": [],
   "source": []
  },
  {
   "cell_type": "code",
   "execution_count": null,
   "id": "8329f691-8f66-4608-8f3e-704cc53f683e",
   "metadata": {},
   "outputs": [],
   "source": []
  },
  {
   "cell_type": "code",
   "execution_count": null,
   "id": "5329a284-5cee-4fdd-a0d0-07f336b7843b",
   "metadata": {},
   "outputs": [],
   "source": []
  },
  {
   "cell_type": "code",
   "execution_count": null,
   "id": "0fd09381-09bd-4160-a1e1-864773afeb29",
   "metadata": {},
   "outputs": [],
   "source": []
  },
  {
   "cell_type": "code",
   "execution_count": null,
   "id": "2b45887d-ba6c-447e-bc29-b1ce9fd3287b",
   "metadata": {},
   "outputs": [],
   "source": []
  },
  {
   "cell_type": "code",
   "execution_count": null,
   "id": "79bb3fec-b650-40e7-bb33-51de6d540004",
   "metadata": {},
   "outputs": [],
   "source": []
  }
 ],
 "metadata": {
  "kernelspec": {
   "display_name": "Python 3 (ipykernel)",
   "language": "python",
   "name": "python3"
  },
  "language_info": {
   "codemirror_mode": {
    "name": "ipython",
    "version": 3
   },
   "file_extension": ".py",
   "mimetype": "text/x-python",
   "name": "python",
   "nbconvert_exporter": "python",
   "pygments_lexer": "ipython3",
   "version": "3.13.0"
  }
 },
 "nbformat": 4,
 "nbformat_minor": 5
}
